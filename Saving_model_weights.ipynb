{
  "nbformat": 4,
  "nbformat_minor": 0,
  "metadata": {
    "colab": {
      "provenance": [],
      "authorship_tag": "ABX9TyMPr8KvLkinJ5CKXjWtCEAn",
      "include_colab_link": true
    },
    "kernelspec": {
      "name": "python3",
      "display_name": "Python 3"
    },
    "language_info": {
      "name": "python"
    }
  },
  "cells": [
    {
      "cell_type": "markdown",
      "metadata": {
        "id": "view-in-github",
        "colab_type": "text"
      },
      "source": [
        "<a href=\"https://colab.research.google.com/github/daniel-jyc/CT-Scan_Classification_ResNet50/blob/main/Saving_model_weights.ipynb\" target=\"_parent\"><img src=\"https://colab.research.google.com/assets/colab-badge.svg\" alt=\"Open In Colab\"/></a>"
      ]
    },
    {
      "cell_type": "code",
      "execution_count": 1,
      "metadata": {
        "colab": {
          "base_uri": "https://localhost:8080/"
        },
        "id": "ahepAnmTa8r0",
        "outputId": "00ac9cff-da72-4672-a00c-355f389e3b7e"
      },
      "outputs": [
        {
          "output_type": "stream",
          "name": "stdout",
          "text": [
            "Mounted at /content/drive\n"
          ]
        }
      ],
      "source": [
        "from google.colab import drive\n",
        "drive.mount('/content/drive')"
      ]
    },
    {
      "cell_type": "code",
      "source": [
        "import h5py\n",
        "import json"
      ],
      "metadata": {
        "id": "XIamqRt9bMSA"
      },
      "execution_count": 2,
      "outputs": []
    },
    {
      "cell_type": "code",
      "source": [
        "from keras.models import load_model\n",
        "import numpy as np\n",
        "resnet_model = load_model('/content/drive/MyDrive/checkpoints/tuner/CT_ResNet50_Model.h5')\n",
        "\n",
        "weights_list = resnet_model.layers[-1].get_weights()"
      ],
      "metadata": {
        "id": "fB_VpZi7bVLT"
      },
      "execution_count": 3,
      "outputs": []
    },
    {
      "cell_type": "code",
      "source": [
        "\n",
        "weights = [np.array(w).tolist() for w in weights_list]\n",
        "\n",
        "# Save the weights as JSON\n",
        "weights_json = json.dumps(weights)\n"
      ],
      "metadata": {
        "id": "amxFP-yoczri"
      },
      "execution_count": 4,
      "outputs": []
    },
    {
      "cell_type": "code",
      "source": [
        "import os\n",
        "# Write the JSON to a file\n",
        "directory = '/content/drive/MyDrive/checkpoints/tuner/'\n",
        "\n",
        "with open(os.path.join(directory, 'model_classification_layer_weights.json'), 'w') as json_file:\n",
        "    json_file.write(weights_json)"
      ],
      "metadata": {
        "id": "x3q5OiVhd5TZ"
      },
      "execution_count": 5,
      "outputs": []
    }
  ]
}